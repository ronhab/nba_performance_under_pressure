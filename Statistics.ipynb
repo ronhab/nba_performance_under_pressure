{
 "cells": [
  {
   "cell_type": "code",
   "execution_count": 10,
   "metadata": {},
   "outputs": [],
   "source": [
    "import pandas as pd\n",
    "import numpy as np\n",
    "import seaborn as sns\n",
    "import matplotlib.pyplot as plt\n",
    "%matplotlib inline"
   ]
  },
  {
   "cell_type": "code",
   "execution_count": 11,
   "metadata": {},
   "outputs": [],
   "source": [
    "df = pd.read_csv('free_throws.csv', encoding='utf-8')"
   ]
  },
  {
   "cell_type": "code",
   "execution_count": 27,
   "metadata": {},
   "outputs": [],
   "source": [
    "ft_attempts_threshold = 100"
   ]
  },
  {
   "cell_type": "code",
   "execution_count": 28,
   "metadata": {},
   "outputs": [
    {
     "data": {
      "text/html": [
       "<div>\n",
       "<style scoped>\n",
       "    .dataframe tbody tr th:only-of-type {\n",
       "        vertical-align: middle;\n",
       "    }\n",
       "\n",
       "    .dataframe tbody tr th {\n",
       "        vertical-align: top;\n",
       "    }\n",
       "\n",
       "    .dataframe thead th {\n",
       "        text-align: right;\n",
       "    }\n",
       "</style>\n",
       "<table border=\"1\" class=\"dataframe\">\n",
       "  <thead>\n",
       "    <tr style=\"text-align: right;\">\n",
       "      <th></th>\n",
       "      <th></th>\n",
       "      <th>ft_count</th>\n",
       "      <th>ft_made</th>\n",
       "      <th>percentage</th>\n",
       "    </tr>\n",
       "    <tr>\n",
       "      <th>player</th>\n",
       "      <th>season</th>\n",
       "      <th></th>\n",
       "      <th></th>\n",
       "      <th></th>\n",
       "    </tr>\n",
       "  </thead>\n",
       "  <tbody>\n",
       "    <tr>\n",
       "      <th rowspan=\"3\" valign=\"top\">Aaron Brooks</th>\n",
       "      <th>2008 - 2009</th>\n",
       "      <td>218</td>\n",
       "      <td>186</td>\n",
       "      <td>0.853211</td>\n",
       "    </tr>\n",
       "    <tr>\n",
       "      <th>2009 - 2010</th>\n",
       "      <td>298</td>\n",
       "      <td>245</td>\n",
       "      <td>0.822148</td>\n",
       "    </tr>\n",
       "    <tr>\n",
       "      <th>2010 - 2011</th>\n",
       "      <td>140</td>\n",
       "      <td>124</td>\n",
       "      <td>0.885714</td>\n",
       "    </tr>\n",
       "  </tbody>\n",
       "</table>\n",
       "</div>"
      ],
      "text/plain": [
       "                          ft_count  ft_made  percentage\n",
       "player       season                                    \n",
       "Aaron Brooks 2008 - 2009       218      186    0.853211\n",
       "             2009 - 2010       298      245    0.822148\n",
       "             2010 - 2011       140      124    0.885714"
      ]
     },
     "execution_count": 28,
     "metadata": {},
     "output_type": "execute_result"
    }
   ],
   "source": [
    "shooting = df.groupby(['player','season'])['shot_made'].agg(['size', 'sum', 'mean'])\n",
    "shooting = shooting.rename(columns={'size': 'ft_count', 'sum': 'ft_made', 'mean': 'percentage'})\n",
    "# to make sure the shooting percentages are valid, the players should have at least taken ft_attempts_threshold shots\n",
    "shooting = shooting[shooting.ft_count>=ft_attempts_threshold]\n",
    "\n",
    "shooting.head(3)"
   ]
  },
  {
   "cell_type": "code",
   "execution_count": 29,
   "metadata": {},
   "outputs": [
    {
     "data": {
      "text/html": [
       "<div>\n",
       "<style scoped>\n",
       "    .dataframe tbody tr th:only-of-type {\n",
       "        vertical-align: middle;\n",
       "    }\n",
       "\n",
       "    .dataframe tbody tr th {\n",
       "        vertical-align: top;\n",
       "    }\n",
       "\n",
       "    .dataframe thead th {\n",
       "        text-align: right;\n",
       "    }\n",
       "</style>\n",
       "<table border=\"1\" class=\"dataframe\">\n",
       "  <thead>\n",
       "    <tr style=\"text-align: right;\">\n",
       "      <th></th>\n",
       "      <th></th>\n",
       "      <th>ft_count</th>\n",
       "      <th>ft_made</th>\n",
       "      <th>percentage</th>\n",
       "    </tr>\n",
       "    <tr>\n",
       "      <th>player</th>\n",
       "      <th>season</th>\n",
       "      <th></th>\n",
       "      <th></th>\n",
       "      <th></th>\n",
       "    </tr>\n",
       "  </thead>\n",
       "  <tbody>\n",
       "    <tr>\n",
       "      <th rowspan=\"3\" valign=\"top\">Aaron Brooks</th>\n",
       "      <th>2008 - 2009</th>\n",
       "      <td>111</td>\n",
       "      <td>97</td>\n",
       "      <td>0.873874</td>\n",
       "    </tr>\n",
       "    <tr>\n",
       "      <th>2009 - 2010</th>\n",
       "      <td>168</td>\n",
       "      <td>138</td>\n",
       "      <td>0.821429</td>\n",
       "    </tr>\n",
       "    <tr>\n",
       "      <th>2014 - 2015</th>\n",
       "      <td>112</td>\n",
       "      <td>91</td>\n",
       "      <td>0.812500</td>\n",
       "    </tr>\n",
       "  </tbody>\n",
       "</table>\n",
       "</div>"
      ],
      "text/plain": [
       "                          ft_count  ft_made  percentage\n",
       "player       season                                    \n",
       "Aaron Brooks 2008 - 2009       111       97    0.873874\n",
       "             2009 - 2010       168      138    0.821429\n",
       "             2014 - 2015       112       91    0.812500"
      ]
     },
     "execution_count": 29,
     "metadata": {},
     "output_type": "execute_result"
    }
   ],
   "source": [
    "shooting_no_pressure = df[df.period<=3]\n",
    "shooting_no_pressure = shooting_no_pressure.groupby(['player','season'])['shot_made'].agg(['size', 'sum', 'mean'])\n",
    "shooting_no_pressure = shooting_no_pressure.rename(columns={'size': 'ft_count', 'sum': 'ft_made', 'mean': 'percentage'})\n",
    "# to make sure the shooting percentages are valid, the players should have at least taken ft_attempts_threshold shots\n",
    "shooting_no_pressure = shooting_no_pressure[shooting_no_pressure.ft_count>=ft_attempts_threshold]\n",
    "\n",
    "shooting_no_pressure.head(3)"
   ]
  },
  {
   "cell_type": "code",
   "execution_count": null,
   "metadata": {},
   "outputs": [],
   "source": []
  }
 ],
 "metadata": {
  "kernelspec": {
   "display_name": "Python 3",
   "language": "python",
   "name": "python3"
  },
  "language_info": {
   "codemirror_mode": {
    "name": "ipython",
    "version": 3
   },
   "file_extension": ".py",
   "mimetype": "text/x-python",
   "name": "python",
   "nbconvert_exporter": "python",
   "pygments_lexer": "ipython3",
   "version": "3.6.4"
  }
 },
 "nbformat": 4,
 "nbformat_minor": 2
}
